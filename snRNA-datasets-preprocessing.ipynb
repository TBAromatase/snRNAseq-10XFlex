{
 "cells": [
  {
   "cell_type": "code",
   "execution_count": 1,
   "id": "16374ae7",
   "metadata": {},
   "outputs": [
    {
     "name": "stderr",
     "output_type": "stream",
     "text": [
      "30-Oct-2025 18:28:30 DEBUG utils - Directory ./datasets/ already exists. Skipping.\n",
      "30-Oct-2025 18:28:30 INFO GEOparse - File already exist: using local version.\n",
      "30-Oct-2025 18:28:30 INFO GEOparse - Parsing ./datasets/GSE309097_family.soft.gz: \n",
      "30-Oct-2025 18:28:30 DEBUG GEOparse - DATABASE: GeoMiame\n",
      "30-Oct-2025 18:28:30 DEBUG GEOparse - SERIES: GSE309097\n",
      "30-Oct-2025 18:28:30 DEBUG GEOparse - PLATFORM: GPL24676\n",
      "30-Oct-2025 18:28:30 DEBUG GEOparse - SAMPLE: GSM9260550\n",
      "30-Oct-2025 18:28:30 DEBUG GEOparse - SAMPLE: GSM9260551\n",
      "30-Oct-2025 18:28:30 DEBUG GEOparse - SAMPLE: GSM9260552\n",
      "30-Oct-2025 18:28:30 DEBUG GEOparse - SAMPLE: GSM9260553\n",
      "30-Oct-2025 18:28:30 DEBUG GEOparse - SAMPLE: GSM9260554\n",
      "30-Oct-2025 18:28:30 DEBUG GEOparse - SAMPLE: GSM9260555\n",
      "30-Oct-2025 18:28:30 DEBUG GEOparse - SAMPLE: GSM9260556\n",
      "30-Oct-2025 18:28:30 DEBUG GEOparse - SAMPLE: GSM9260557\n",
      "30-Oct-2025 18:28:30 DEBUG GEOparse - SAMPLE: GSM9260558\n",
      "30-Oct-2025 18:28:30 DEBUG GEOparse - SAMPLE: GSM9260559\n",
      "30-Oct-2025 18:28:30 DEBUG GEOparse - SAMPLE: GSM9260560\n",
      "30-Oct-2025 18:28:30 DEBUG GEOparse - SAMPLE: GSM9260561\n",
      "30-Oct-2025 18:28:30 DEBUG GEOparse - SAMPLE: GSM9260562\n",
      "30-Oct-2025 18:28:30 DEBUG GEOparse - SAMPLE: GSM9260563\n",
      "30-Oct-2025 18:28:30 DEBUG GEOparse - SAMPLE: GSM9260564\n",
      "30-Oct-2025 18:28:30 DEBUG GEOparse - SAMPLE: GSM9260565\n",
      "30-Oct-2025 18:28:30 DEBUG GEOparse - SAMPLE: GSM9260566\n"
     ]
    },
    {
     "name": "stdout",
     "output_type": "stream",
     "text": [
      "<SERIES: GSE309097 - 17 SAMPLES, 1 d(s)>\n"
     ]
    }
   ],
   "source": [
    "import GEOparse\n",
    "\n",
    "DATA_PATH = r\"./datasets/\"\n",
    "\n",
    "gse = GEOparse.get_GEO(geo=\"GSE309097\", destdir=DATA_PATH)\n",
    "print(gse)"
   ]
  },
  {
   "cell_type": "code",
   "execution_count": 2,
   "id": "f7178ab0",
   "metadata": {},
   "outputs": [
    {
     "name": "stderr",
     "output_type": "stream",
     "text": [
      "30-Oct-2025 18:28:30 DEBUG utils - Directory /Users/pierremarschall/Documents/dev/scientalab/251030_snRNA-10XFlex/datasets already exists. Skipping.\n",
      "30-Oct-2025 18:28:30 INFO GEOTypes - Downloading SRA files for GSM9260550 series\n",
      "\n",
      "30-Oct-2025 18:28:30 DEBUG utils - Directory /Users/pierremarschall/Documents/dev/scientalab/251030_snRNA-10XFlex/datasets/Supp_GSM9260550_230628_Flex_GPP_10 already exists. Skipping.\n",
      "30-Oct-2025 18:28:30 INFO downloader - File /Users/pierremarschall/Documents/dev/scientalab/251030_snRNA-10XFlex/datasets/Supp_GSM9260550_230628_Flex_GPP_10/GSM9260550_8821-JF-10_barcodes.tsv.gz already exist. Use force=True if you would like to overwrite it.\n",
      "30-Oct-2025 18:28:30 INFO downloader - File /Users/pierremarschall/Documents/dev/scientalab/251030_snRNA-10XFlex/datasets/Supp_GSM9260550_230628_Flex_GPP_10/GSM9260550_8821-JF-10_features.tsv.gz already exist. Use force=True if you would like to overwrite it.\n",
      "30-Oct-2025 18:28:30 INFO downloader - File /Users/pierremarschall/Documents/dev/scientalab/251030_snRNA-10XFlex/datasets/Supp_GSM9260550_230628_Flex_GPP_10/GSM9260550_8821-JF-10_matrix.mtx.gz already exist. Use force=True if you would like to overwrite it.\n",
      "30-Oct-2025 18:28:30 ERROR GEOTypes - Cannot download GSM9260550 SRA file (argument of type 'NoneType' is not iterable)\n",
      "30-Oct-2025 18:28:30 INFO GEOTypes - Downloading SRA files for GSM9260551 series\n",
      "\n",
      "30-Oct-2025 18:28:30 DEBUG utils - Directory /Users/pierremarschall/Documents/dev/scientalab/251030_snRNA-10XFlex/datasets/Supp_GSM9260551_230628_Flex_GPP_11 already exists. Skipping.\n",
      "30-Oct-2025 18:28:30 INFO downloader - File /Users/pierremarschall/Documents/dev/scientalab/251030_snRNA-10XFlex/datasets/Supp_GSM9260551_230628_Flex_GPP_11/GSM9260551_8821-JF-11_barcodes.tsv.gz already exist. Use force=True if you would like to overwrite it.\n",
      "30-Oct-2025 18:28:30 INFO downloader - File /Users/pierremarschall/Documents/dev/scientalab/251030_snRNA-10XFlex/datasets/Supp_GSM9260551_230628_Flex_GPP_11/GSM9260551_8821-JF-11_features.tsv.gz already exist. Use force=True if you would like to overwrite it.\n",
      "30-Oct-2025 18:28:30 INFO downloader - File /Users/pierremarschall/Documents/dev/scientalab/251030_snRNA-10XFlex/datasets/Supp_GSM9260551_230628_Flex_GPP_11/GSM9260551_8821-JF-11_matrix.mtx.gz already exist. Use force=True if you would like to overwrite it.\n",
      "30-Oct-2025 18:28:30 ERROR GEOTypes - Cannot download GSM9260551 SRA file (argument of type 'NoneType' is not iterable)\n",
      "30-Oct-2025 18:28:30 INFO GEOTypes - Downloading SRA files for GSM9260552 series\n",
      "\n",
      "30-Oct-2025 18:28:30 DEBUG utils - Directory /Users/pierremarschall/Documents/dev/scientalab/251030_snRNA-10XFlex/datasets/Supp_GSM9260552_230628_Flex_GPP_12 already exists. Skipping.\n",
      "30-Oct-2025 18:28:30 INFO downloader - File /Users/pierremarschall/Documents/dev/scientalab/251030_snRNA-10XFlex/datasets/Supp_GSM9260552_230628_Flex_GPP_12/GSM9260552_8821-JF-12_barcodes.tsv.gz already exist. Use force=True if you would like to overwrite it.\n",
      "30-Oct-2025 18:28:30 INFO downloader - File /Users/pierremarschall/Documents/dev/scientalab/251030_snRNA-10XFlex/datasets/Supp_GSM9260552_230628_Flex_GPP_12/GSM9260552_8821-JF-12_features.tsv.gz already exist. Use force=True if you would like to overwrite it.\n",
      "30-Oct-2025 18:28:30 INFO downloader - File /Users/pierremarschall/Documents/dev/scientalab/251030_snRNA-10XFlex/datasets/Supp_GSM9260552_230628_Flex_GPP_12/GSM9260552_8821-JF-12_matrix.mtx.gz already exist. Use force=True if you would like to overwrite it.\n",
      "30-Oct-2025 18:28:30 ERROR GEOTypes - Cannot download GSM9260552 SRA file (argument of type 'NoneType' is not iterable)\n",
      "30-Oct-2025 18:28:30 INFO GEOTypes - Downloading SRA files for GSM9260553 series\n",
      "\n",
      "30-Oct-2025 18:28:30 DEBUG utils - Directory /Users/pierremarschall/Documents/dev/scientalab/251030_snRNA-10XFlex/datasets/Supp_GSM9260553_230628_Flex_GPP_13 already exists. Skipping.\n",
      "30-Oct-2025 18:28:30 INFO downloader - File /Users/pierremarschall/Documents/dev/scientalab/251030_snRNA-10XFlex/datasets/Supp_GSM9260553_230628_Flex_GPP_13/GSM9260553_8821-JF-13_barcodes.tsv.gz already exist. Use force=True if you would like to overwrite it.\n",
      "30-Oct-2025 18:28:30 INFO downloader - File /Users/pierremarschall/Documents/dev/scientalab/251030_snRNA-10XFlex/datasets/Supp_GSM9260553_230628_Flex_GPP_13/GSM9260553_8821-JF-13_features.tsv.gz already exist. Use force=True if you would like to overwrite it.\n",
      "30-Oct-2025 18:28:30 INFO downloader - File /Users/pierremarschall/Documents/dev/scientalab/251030_snRNA-10XFlex/datasets/Supp_GSM9260553_230628_Flex_GPP_13/GSM9260553_8821-JF-13_matrix.mtx.gz already exist. Use force=True if you would like to overwrite it.\n",
      "30-Oct-2025 18:28:30 ERROR GEOTypes - Cannot download GSM9260553 SRA file (argument of type 'NoneType' is not iterable)\n",
      "30-Oct-2025 18:28:30 INFO GEOTypes - Downloading SRA files for GSM9260554 series\n",
      "\n",
      "30-Oct-2025 18:28:30 DEBUG utils - Directory /Users/pierremarschall/Documents/dev/scientalab/251030_snRNA-10XFlex/datasets/Supp_GSM9260554_230628_Flex_GPP_1 already exists. Skipping.\n",
      "30-Oct-2025 18:28:30 INFO downloader - File /Users/pierremarschall/Documents/dev/scientalab/251030_snRNA-10XFlex/datasets/Supp_GSM9260554_230628_Flex_GPP_1/GSM9260554_8821-JF-1_barcodes.tsv.gz already exist. Use force=True if you would like to overwrite it.\n",
      "30-Oct-2025 18:28:30 INFO downloader - File /Users/pierremarschall/Documents/dev/scientalab/251030_snRNA-10XFlex/datasets/Supp_GSM9260554_230628_Flex_GPP_1/GSM9260554_8821-JF-1_features.tsv.gz already exist. Use force=True if you would like to overwrite it.\n",
      "30-Oct-2025 18:28:30 INFO downloader - File /Users/pierremarschall/Documents/dev/scientalab/251030_snRNA-10XFlex/datasets/Supp_GSM9260554_230628_Flex_GPP_1/GSM9260554_8821-JF-1_matrix.mtx.gz already exist. Use force=True if you would like to overwrite it.\n",
      "30-Oct-2025 18:28:30 ERROR GEOTypes - Cannot download GSM9260554 SRA file (argument of type 'NoneType' is not iterable)\n",
      "30-Oct-2025 18:28:30 INFO GEOTypes - Downloading SRA files for GSM9260555 series\n",
      "\n",
      "30-Oct-2025 18:28:30 DEBUG utils - Directory /Users/pierremarschall/Documents/dev/scientalab/251030_snRNA-10XFlex/datasets/Supp_GSM9260555_230628_Flex_GPP_2 already exists. Skipping.\n",
      "30-Oct-2025 18:28:30 INFO downloader - File /Users/pierremarschall/Documents/dev/scientalab/251030_snRNA-10XFlex/datasets/Supp_GSM9260555_230628_Flex_GPP_2/GSM9260555_8821-JF-2_barcodes.tsv.gz already exist. Use force=True if you would like to overwrite it.\n",
      "30-Oct-2025 18:28:30 INFO downloader - File /Users/pierremarschall/Documents/dev/scientalab/251030_snRNA-10XFlex/datasets/Supp_GSM9260555_230628_Flex_GPP_2/GSM9260555_8821-JF-2_features.tsv.gz already exist. Use force=True if you would like to overwrite it.\n",
      "30-Oct-2025 18:28:30 INFO downloader - File /Users/pierremarschall/Documents/dev/scientalab/251030_snRNA-10XFlex/datasets/Supp_GSM9260555_230628_Flex_GPP_2/GSM9260555_8821-JF-2_matrix.mtx.gz already exist. Use force=True if you would like to overwrite it.\n",
      "30-Oct-2025 18:28:30 ERROR GEOTypes - Cannot download GSM9260555 SRA file (argument of type 'NoneType' is not iterable)\n",
      "30-Oct-2025 18:28:30 INFO GEOTypes - Downloading SRA files for GSM9260556 series\n",
      "\n",
      "30-Oct-2025 18:28:30 DEBUG utils - Directory /Users/pierremarschall/Documents/dev/scientalab/251030_snRNA-10XFlex/datasets/Supp_GSM9260556_230628_Flex_GPP_3 already exists. Skipping.\n",
      "30-Oct-2025 18:28:30 INFO downloader - File /Users/pierremarschall/Documents/dev/scientalab/251030_snRNA-10XFlex/datasets/Supp_GSM9260556_230628_Flex_GPP_3/GSM9260556_8821-JF-3_barcodes.tsv.gz already exist. Use force=True if you would like to overwrite it.\n",
      "30-Oct-2025 18:28:30 INFO downloader - File /Users/pierremarschall/Documents/dev/scientalab/251030_snRNA-10XFlex/datasets/Supp_GSM9260556_230628_Flex_GPP_3/GSM9260556_8821-JF-3_features.tsv.gz already exist. Use force=True if you would like to overwrite it.\n",
      "30-Oct-2025 18:28:30 INFO downloader - File /Users/pierremarschall/Documents/dev/scientalab/251030_snRNA-10XFlex/datasets/Supp_GSM9260556_230628_Flex_GPP_3/GSM9260556_8821-JF-3_matrix.mtx.gz already exist. Use force=True if you would like to overwrite it.\n",
      "30-Oct-2025 18:28:30 ERROR GEOTypes - Cannot download GSM9260556 SRA file (argument of type 'NoneType' is not iterable)\n",
      "30-Oct-2025 18:28:30 INFO GEOTypes - Downloading SRA files for GSM9260557 series\n",
      "\n",
      "30-Oct-2025 18:28:30 DEBUG utils - Directory /Users/pierremarschall/Documents/dev/scientalab/251030_snRNA-10XFlex/datasets/Supp_GSM9260557_230628_Flex_GPP_4 already exists. Skipping.\n",
      "30-Oct-2025 18:28:30 INFO downloader - File /Users/pierremarschall/Documents/dev/scientalab/251030_snRNA-10XFlex/datasets/Supp_GSM9260557_230628_Flex_GPP_4/GSM9260557_8821-JF-4_barcodes.tsv.gz already exist. Use force=True if you would like to overwrite it.\n",
      "30-Oct-2025 18:28:30 INFO downloader - File /Users/pierremarschall/Documents/dev/scientalab/251030_snRNA-10XFlex/datasets/Supp_GSM9260557_230628_Flex_GPP_4/GSM9260557_8821-JF-4_features.tsv.gz already exist. Use force=True if you would like to overwrite it.\n",
      "30-Oct-2025 18:28:30 INFO downloader - File /Users/pierremarschall/Documents/dev/scientalab/251030_snRNA-10XFlex/datasets/Supp_GSM9260557_230628_Flex_GPP_4/GSM9260557_8821-JF-4_matrix.mtx.gz already exist. Use force=True if you would like to overwrite it.\n",
      "30-Oct-2025 18:28:30 ERROR GEOTypes - Cannot download GSM9260557 SRA file (argument of type 'NoneType' is not iterable)\n",
      "30-Oct-2025 18:28:30 INFO GEOTypes - Downloading SRA files for GSM9260558 series\n",
      "\n",
      "30-Oct-2025 18:28:30 DEBUG utils - Directory /Users/pierremarschall/Documents/dev/scientalab/251030_snRNA-10XFlex/datasets/Supp_GSM9260558_230628_Flex_GPP_5 already exists. Skipping.\n",
      "30-Oct-2025 18:28:30 INFO downloader - File /Users/pierremarschall/Documents/dev/scientalab/251030_snRNA-10XFlex/datasets/Supp_GSM9260558_230628_Flex_GPP_5/GSM9260558_8821-JF-5_barcodes.tsv.gz already exist. Use force=True if you would like to overwrite it.\n",
      "30-Oct-2025 18:28:30 INFO downloader - File /Users/pierremarschall/Documents/dev/scientalab/251030_snRNA-10XFlex/datasets/Supp_GSM9260558_230628_Flex_GPP_5/GSM9260558_8821-JF-5_features.tsv.gz already exist. Use force=True if you would like to overwrite it.\n",
      "30-Oct-2025 18:28:30 INFO downloader - File /Users/pierremarschall/Documents/dev/scientalab/251030_snRNA-10XFlex/datasets/Supp_GSM9260558_230628_Flex_GPP_5/GSM9260558_8821-JF-5_matrix.mtx.gz already exist. Use force=True if you would like to overwrite it.\n",
      "30-Oct-2025 18:28:30 ERROR GEOTypes - Cannot download GSM9260558 SRA file (argument of type 'NoneType' is not iterable)\n",
      "30-Oct-2025 18:28:30 INFO GEOTypes - Downloading SRA files for GSM9260559 series\n",
      "\n",
      "30-Oct-2025 18:28:30 DEBUG utils - Directory /Users/pierremarschall/Documents/dev/scientalab/251030_snRNA-10XFlex/datasets/Supp_GSM9260559_230628_Flex_GPP_6 already exists. Skipping.\n",
      "30-Oct-2025 18:28:30 INFO downloader - File /Users/pierremarschall/Documents/dev/scientalab/251030_snRNA-10XFlex/datasets/Supp_GSM9260559_230628_Flex_GPP_6/GSM9260559_8821-JF-6_barcodes.tsv.gz already exist. Use force=True if you would like to overwrite it.\n",
      "30-Oct-2025 18:28:30 INFO downloader - File /Users/pierremarschall/Documents/dev/scientalab/251030_snRNA-10XFlex/datasets/Supp_GSM9260559_230628_Flex_GPP_6/GSM9260559_8821-JF-6_features.tsv.gz already exist. Use force=True if you would like to overwrite it.\n",
      "30-Oct-2025 18:28:30 INFO downloader - File /Users/pierremarschall/Documents/dev/scientalab/251030_snRNA-10XFlex/datasets/Supp_GSM9260559_230628_Flex_GPP_6/GSM9260559_8821-JF-6_matrix.mtx.gz already exist. Use force=True if you would like to overwrite it.\n",
      "30-Oct-2025 18:28:30 ERROR GEOTypes - Cannot download GSM9260559 SRA file (argument of type 'NoneType' is not iterable)\n",
      "30-Oct-2025 18:28:30 INFO GEOTypes - Downloading SRA files for GSM9260560 series\n",
      "\n",
      "30-Oct-2025 18:28:30 DEBUG utils - Directory /Users/pierremarschall/Documents/dev/scientalab/251030_snRNA-10XFlex/datasets/Supp_GSM9260560_230628_Flex_GPP_7 already exists. Skipping.\n",
      "30-Oct-2025 18:28:30 INFO downloader - File /Users/pierremarschall/Documents/dev/scientalab/251030_snRNA-10XFlex/datasets/Supp_GSM9260560_230628_Flex_GPP_7/GSM9260560_8821-JF-7_barcodes.tsv.gz already exist. Use force=True if you would like to overwrite it.\n",
      "30-Oct-2025 18:28:30 INFO downloader - File /Users/pierremarschall/Documents/dev/scientalab/251030_snRNA-10XFlex/datasets/Supp_GSM9260560_230628_Flex_GPP_7/GSM9260560_8821-JF-7_features.tsv.gz already exist. Use force=True if you would like to overwrite it.\n",
      "30-Oct-2025 18:28:30 INFO downloader - File /Users/pierremarschall/Documents/dev/scientalab/251030_snRNA-10XFlex/datasets/Supp_GSM9260560_230628_Flex_GPP_7/GSM9260560_8821-JF-7_matrix.mtx.gz already exist. Use force=True if you would like to overwrite it.\n",
      "30-Oct-2025 18:28:30 ERROR GEOTypes - Cannot download GSM9260560 SRA file (argument of type 'NoneType' is not iterable)\n",
      "30-Oct-2025 18:28:30 INFO GEOTypes - Downloading SRA files for GSM9260561 series\n",
      "\n",
      "30-Oct-2025 18:28:30 DEBUG utils - Directory /Users/pierremarschall/Documents/dev/scientalab/251030_snRNA-10XFlex/datasets/Supp_GSM9260561_230628_Flex_GPP_8 already exists. Skipping.\n",
      "30-Oct-2025 18:28:30 INFO downloader - File /Users/pierremarschall/Documents/dev/scientalab/251030_snRNA-10XFlex/datasets/Supp_GSM9260561_230628_Flex_GPP_8/GSM9260561_8821-JF-8_barcodes.tsv.gz already exist. Use force=True if you would like to overwrite it.\n",
      "30-Oct-2025 18:28:30 INFO downloader - File /Users/pierremarschall/Documents/dev/scientalab/251030_snRNA-10XFlex/datasets/Supp_GSM9260561_230628_Flex_GPP_8/GSM9260561_8821-JF-8_features.tsv.gz already exist. Use force=True if you would like to overwrite it.\n",
      "30-Oct-2025 18:28:30 INFO downloader - File /Users/pierremarschall/Documents/dev/scientalab/251030_snRNA-10XFlex/datasets/Supp_GSM9260561_230628_Flex_GPP_8/GSM9260561_8821-JF-8_matrix.mtx.gz already exist. Use force=True if you would like to overwrite it.\n",
      "30-Oct-2025 18:28:30 ERROR GEOTypes - Cannot download GSM9260561 SRA file (argument of type 'NoneType' is not iterable)\n",
      "30-Oct-2025 18:28:30 INFO GEOTypes - Downloading SRA files for GSM9260562 series\n",
      "\n",
      "30-Oct-2025 18:28:30 DEBUG utils - Directory /Users/pierremarschall/Documents/dev/scientalab/251030_snRNA-10XFlex/datasets/Supp_GSM9260562_230628_Flex_GPP_9 already exists. Skipping.\n",
      "30-Oct-2025 18:28:30 INFO downloader - File /Users/pierremarschall/Documents/dev/scientalab/251030_snRNA-10XFlex/datasets/Supp_GSM9260562_230628_Flex_GPP_9/GSM9260562_8821-JF-9_barcodes.tsv.gz already exist. Use force=True if you would like to overwrite it.\n",
      "30-Oct-2025 18:28:30 INFO downloader - File /Users/pierremarschall/Documents/dev/scientalab/251030_snRNA-10XFlex/datasets/Supp_GSM9260562_230628_Flex_GPP_9/GSM9260562_8821-JF-9_features.tsv.gz already exist. Use force=True if you would like to overwrite it.\n",
      "30-Oct-2025 18:28:30 INFO downloader - File /Users/pierremarschall/Documents/dev/scientalab/251030_snRNA-10XFlex/datasets/Supp_GSM9260562_230628_Flex_GPP_9/GSM9260562_8821-JF-9_matrix.mtx.gz already exist. Use force=True if you would like to overwrite it.\n",
      "30-Oct-2025 18:28:30 ERROR GEOTypes - Cannot download GSM9260562 SRA file (argument of type 'NoneType' is not iterable)\n",
      "30-Oct-2025 18:28:30 INFO GEOTypes - Downloading SRA files for GSM9260563 series\n",
      "\n",
      "30-Oct-2025 18:28:30 DEBUG utils - Directory /Users/pierremarschall/Documents/dev/scientalab/251030_snRNA-10XFlex/datasets/Supp_GSM9260563_230712_Flex_HC_1 already exists. Skipping.\n",
      "30-Oct-2025 18:28:30 INFO downloader - File /Users/pierremarschall/Documents/dev/scientalab/251030_snRNA-10XFlex/datasets/Supp_GSM9260563_230712_Flex_HC_1/GSM9260563_8911-JF-13_barcodes.tsv.gz already exist. Use force=True if you would like to overwrite it.\n",
      "30-Oct-2025 18:28:30 INFO downloader - File /Users/pierremarschall/Documents/dev/scientalab/251030_snRNA-10XFlex/datasets/Supp_GSM9260563_230712_Flex_HC_1/GSM9260563_8911-JF-13_features.tsv.gz already exist. Use force=True if you would like to overwrite it.\n",
      "30-Oct-2025 18:28:30 INFO downloader - File /Users/pierremarschall/Documents/dev/scientalab/251030_snRNA-10XFlex/datasets/Supp_GSM9260563_230712_Flex_HC_1/GSM9260563_8911-JF-13_matrix.mtx.gz already exist. Use force=True if you would like to overwrite it.\n",
      "30-Oct-2025 18:28:30 ERROR GEOTypes - Cannot download GSM9260563 SRA file (argument of type 'NoneType' is not iterable)\n",
      "30-Oct-2025 18:28:30 INFO GEOTypes - Downloading SRA files for GSM9260564 series\n",
      "\n",
      "30-Oct-2025 18:28:30 DEBUG utils - Directory /Users/pierremarschall/Documents/dev/scientalab/251030_snRNA-10XFlex/datasets/Supp_GSM9260564_230712_Flex_HC_2 already exists. Skipping.\n",
      "30-Oct-2025 18:28:30 INFO downloader - File /Users/pierremarschall/Documents/dev/scientalab/251030_snRNA-10XFlex/datasets/Supp_GSM9260564_230712_Flex_HC_2/GSM9260564_8911-JF-14_barcodes.tsv.gz already exist. Use force=True if you would like to overwrite it.\n",
      "30-Oct-2025 18:28:30 INFO downloader - File /Users/pierremarschall/Documents/dev/scientalab/251030_snRNA-10XFlex/datasets/Supp_GSM9260564_230712_Flex_HC_2/GSM9260564_8911-JF-14_features.tsv.gz already exist. Use force=True if you would like to overwrite it.\n",
      "30-Oct-2025 18:28:30 INFO downloader - File /Users/pierremarschall/Documents/dev/scientalab/251030_snRNA-10XFlex/datasets/Supp_GSM9260564_230712_Flex_HC_2/GSM9260564_8911-JF-14_matrix.mtx.gz already exist. Use force=True if you would like to overwrite it.\n",
      "30-Oct-2025 18:28:30 ERROR GEOTypes - Cannot download GSM9260564 SRA file (argument of type 'NoneType' is not iterable)\n",
      "30-Oct-2025 18:28:30 INFO GEOTypes - Downloading SRA files for GSM9260565 series\n",
      "\n",
      "30-Oct-2025 18:28:30 DEBUG utils - Directory /Users/pierremarschall/Documents/dev/scientalab/251030_snRNA-10XFlex/datasets/Supp_GSM9260565_230712_Flex_HC_3 already exists. Skipping.\n",
      "30-Oct-2025 18:28:30 INFO downloader - File /Users/pierremarschall/Documents/dev/scientalab/251030_snRNA-10XFlex/datasets/Supp_GSM9260565_230712_Flex_HC_3/GSM9260565_8911-JF-15_barcodes.tsv.gz already exist. Use force=True if you would like to overwrite it.\n",
      "30-Oct-2025 18:28:30 INFO downloader - File /Users/pierremarschall/Documents/dev/scientalab/251030_snRNA-10XFlex/datasets/Supp_GSM9260565_230712_Flex_HC_3/GSM9260565_8911-JF-15_features.tsv.gz already exist. Use force=True if you would like to overwrite it.\n",
      "30-Oct-2025 18:28:30 INFO downloader - File /Users/pierremarschall/Documents/dev/scientalab/251030_snRNA-10XFlex/datasets/Supp_GSM9260565_230712_Flex_HC_3/GSM9260565_8911-JF-15_matrix.mtx.gz already exist. Use force=True if you would like to overwrite it.\n",
      "30-Oct-2025 18:28:30 ERROR GEOTypes - Cannot download GSM9260565 SRA file (argument of type 'NoneType' is not iterable)\n",
      "30-Oct-2025 18:28:30 INFO GEOTypes - Downloading SRA files for GSM9260566 series\n",
      "\n",
      "30-Oct-2025 18:28:30 DEBUG utils - Directory /Users/pierremarschall/Documents/dev/scientalab/251030_snRNA-10XFlex/datasets/Supp_GSM9260566_230712_Flex_HC_4 already exists. Skipping.\n",
      "30-Oct-2025 18:28:30 INFO downloader - File /Users/pierremarschall/Documents/dev/scientalab/251030_snRNA-10XFlex/datasets/Supp_GSM9260566_230712_Flex_HC_4/GSM9260566_8911-JF-16_barcodes.tsv.gz already exist. Use force=True if you would like to overwrite it.\n",
      "30-Oct-2025 18:28:30 INFO downloader - File /Users/pierremarschall/Documents/dev/scientalab/251030_snRNA-10XFlex/datasets/Supp_GSM9260566_230712_Flex_HC_4/GSM9260566_8911-JF-16_features.tsv.gz already exist. Use force=True if you would like to overwrite it.\n",
      "30-Oct-2025 18:28:30 INFO downloader - File /Users/pierremarschall/Documents/dev/scientalab/251030_snRNA-10XFlex/datasets/Supp_GSM9260566_230712_Flex_HC_4/GSM9260566_8911-JF-16_matrix.mtx.gz already exist. Use force=True if you would like to overwrite it.\n",
      "30-Oct-2025 18:28:30 ERROR GEOTypes - Cannot download GSM9260566 SRA file (argument of type 'NoneType' is not iterable)\n"
     ]
    }
   ],
   "source": [
    "additional_files = gse.download_supplementary_files(DATA_PATH)"
   ]
  },
  {
   "cell_type": "code",
   "execution_count": null,
   "id": "6872993d",
   "metadata": {},
   "outputs": [
    {
     "name": "stdout",
     "output_type": "stream",
     "text": [
      "Skipping GSM9260550: file already exists\n",
      "Skipping GSM9260551: file already exists\n",
      "Skipping GSM9260552: file already exists\n",
      "Skipping GSM9260553: file already exists\n",
      "Skipping GSM9260554: file already exists\n",
      "Skipping GSM9260555: file already exists\n",
      "Skipping GSM9260556: file already exists\n",
      "Skipping GSM9260557: file already exists\n",
      "Skipping GSM9260558: file already exists\n",
      "Skipping GSM9260559: file already exists\n",
      "Skipping GSM9260560: file already exists\n",
      "Skipping GSM9260561: file already exists\n",
      "Skipping GSM9260562: file already exists\n",
      "Skipping GSM9260563: file already exists\n",
      "Skipping GSM9260564: file already exists\n",
      "Skipping GSM9260565: file already exists\n",
      "Skipping GSM9260566: file already exists\n"
     ]
    },
    {
     "data": {
      "text/plain": [
       "[]"
      ]
     },
     "execution_count": 3,
     "metadata": {},
     "output_type": "execute_result"
    }
   ],
   "source": [
    "import csv\n",
    "import gzip\n",
    "import os\n",
    "import scipy.io\n",
    "import pandas as pd\n",
    "\n",
    "for gsm_id, files in additional_files.items():\n",
    "    if os.path.isfile(os.path.join(DATA_PATH,\"expression_matrices\",f\"{gsm_id}_matrix.tsv\")):\n",
    "        print(f\"Skipping {gsm_id}: file already exists\")\n",
    "        continue\n",
    "    filenames = iter(files.values())\n",
    "    barcode_filename = next(filenames)\n",
    "    feature_filename = next(filenames)\n",
    "    matrix_filename = next(filenames)\n",
    "    \n",
    "    mat = scipy.io.mmread(matrix_filename)\n",
    "    \n",
    "    feature_ids = [row[0] for row in csv.reader(gzip.open(feature_filename, mode=\"rt\"), delimiter=\"\\t\")]\n",
    "    gene_names = [row[1] for row in csv.reader(gzip.open(feature_filename, mode=\"rt\"), delimiter=\"\\t\")]\n",
    "    feature_types = [row[2] for row in csv.reader(gzip.open(feature_filename, mode=\"rt\"), delimiter=\"\\t\")]\n",
    "    \n",
    "    barcodes = [row[0] for row in csv.reader(gzip.open(barcode_filename, mode=\"rt\"), delimiter=\"\\t\")]\n",
    "    \n",
    "    matrix = pd.DataFrame.sparse.from_spmatrix(mat)\n",
    "    matrix.columns = barcodes\n",
    "    matrix.insert(loc=0, column=\"feature_id\", value=feature_ids)\n",
    "    matrix.insert(loc=0, column=\"gene\", value=gene_names)\n",
    "    matrix.insert(loc=0, column=\"feature_type\", value=feature_types)\n",
    "    print(f\"Processed {gsm_id}\")\n",
    "    \n",
    "    matrix.to_csv(os.path.join(DATA_PATH,\"expression_matrices\",f\"{gsm_id}_matrix.tsv\"), sep=\"\\t\")    "
   ]
  },
  {
   "cell_type": "code",
   "execution_count": 11,
   "id": "6fe91d90",
   "metadata": {},
   "outputs": [],
   "source": [
    "datasets = []\n",
    "dataset_sizes = []\n",
    "dataset_disease = [\"GPP\"] * 13 + [\"HC\"] * 4\n",
    "\n",
    "for gsm_id, files in additional_files.items():\n",
    "    if os.path.isfile(os.path.join(DATA_PATH,\"expression_matrices\",f\"{gsm_id}_matrix.tsv\")):\n",
    "        with open(os.path.join(DATA_PATH,\"expression_matrices\",f\"{gsm_id}_matrix.tsv\"), mode=\"r\") as f:\n",
    "            row = next(csv.reader(f, delimiter=\"\\t\"))\n",
    "            dataset_sizes.append(len(row) - 4)\n",
    "            datasets.append(gsm_id)\n",
    "    else:\n",
    "        print(\"Missing file for\", gsm_id)"
   ]
  },
  {
   "cell_type": "code",
   "execution_count": 12,
   "id": "b0a185ea",
   "metadata": {},
   "outputs": [
    {
     "name": "stdout",
     "output_type": "stream",
     "text": [
      "GSM9260550: 1727 cells\n",
      "GSM9260551: 1039 cells\n",
      "GSM9260552: 1957 cells\n",
      "GSM9260553: 1307 cells\n",
      "GSM9260554: 7871 cells\n",
      "GSM9260555: 2303 cells\n",
      "GSM9260556: 5800 cells\n",
      "GSM9260557: 15642 cells\n",
      "GSM9260558: 6052 cells\n",
      "GSM9260559: 5793 cells\n",
      "GSM9260560: 11592 cells\n",
      "GSM9260561: 2613 cells\n",
      "GSM9260562: 4833 cells\n",
      "GSM9260563: 5075 cells\n",
      "GSM9260564: 348 cells\n",
      "GSM9260565: 3592 cells\n",
      "GSM9260566: 6535 cells\n"
     ]
    }
   ],
   "source": [
    "print(*(f\"{gsm_id}: {size} cells\" for gsm_id, size in zip(datasets, dataset_sizes)), sep=\"\\n\")"
   ]
  },
  {
   "cell_type": "code",
   "execution_count": 13,
   "id": "8675e5f4",
   "metadata": {},
   "outputs": [
    {
     "data": {
      "image/png": "[encoded data removed]",
      "text/plain": [
       "<Figure size 600x400 with 1 Axes>"
      ]
     },
     "metadata": {},
     "output_type": "display_data"
    }
   ],
   "source": [
    "import seaborn as sns\n",
    "import pandas as pd\n",
    "\n",
    "import matplotlib.pyplot as plt\n",
    "\n",
    "# build a DataFrame from existing variables\n",
    "df_plot = pd.DataFrame({\"disease\": dataset_disease, \"size\": dataset_sizes})\n",
    "\n",
    "plt.figure(figsize=(6, 4))\n",
    "sns.boxplot(x=\"disease\", y=\"size\", data=df_plot)\n",
    "sns.stripplot(x=\"disease\", y=\"size\", data=df_plot, color=\"0.2\", alpha=0.6, jitter=True)\n",
    "plt.xlabel(\"Disease\")\n",
    "plt.ylabel(\"Dataset size (cells)\")\n",
    "plt.title(\"Dataset sizes by disease\")\n",
    "plt.tight_layout()\n",
    "plt.show()"
   ]
  },
  {
   "cell_type": "code",
   "execution_count": null,
   "id": "900d98fe",
   "metadata": {},
   "outputs": [],
   "source": []
  }
 ],
 "metadata": {
  "kernelspec": {
   "display_name": "251030-snrna-10xflex",
   "language": "python",
   "name": "python3"
  },
  "language_info": {
   "codemirror_mode": {
    "name": "ipython",
    "version": 3
   },
   "file_extension": ".py",
   "mimetype": "text/x-python",
   "name": "python",
   "nbconvert_exporter": "python",
   "pygments_lexer": "ipython3",
   "version": "3.12.8"
  }
 },
 "nbformat": 4,
 "nbformat_minor": 5
}
